{
  "nbformat": 4,
  "nbformat_minor": 0,
  "metadata": {
    "colab": {
      "provenance": [],
      "authorship_tag": "ABX9TyNjzIaLCXwzmUuIeSVW59rN",
      "include_colab_link": true
    },
    "kernelspec": {
      "name": "python3",
      "display_name": "Python 3"
    },
    "language_info": {
      "name": "python"
    }
  },
  "cells": [
    {
      "cell_type": "markdown",
      "metadata": {
        "id": "view-in-github",
        "colab_type": "text"
      },
      "source": [
        "<a href=\"https://colab.research.google.com/github/TeneikaAskew/taap/blob/main/Autograder.ipynb\" target=\"_parent\"><img src=\"https://colab.research.google.com/assets/colab-badge.svg\" alt=\"Open In Colab\"/></a>"
      ]
    },
    {
      "cell_type": "code",
      "source": [
        "import os\n",
        "\n",
        "def save_and_push_to_github(commit_message=\"Auto-save from Google Colab\"):\n",
        "    # Add all changes\n",
        "    os.system(\"git add .\")\n",
        "    # Commit changes\n",
        "    os.system(f'git commit -m \"{commit_message}\"')\n",
        "    # Push changes to the GitHub repository\n",
        "    os.system(\"git push origin main\")  # Use 'master' if your default branch is named 'master'\n",
        "\n",
        "\n",
        "from IPython.core.magic import register_line_cell_magic\n",
        "@register_line_cell_magic\n",
        "def autosave(line, cell):\n",
        "    # Execute the cell\n",
        "    exec(cell)\n",
        "    # After execution, save and push to GitHub\n",
        "    save_and_push_to_github(\"Autosave after cell execution\")"
      ],
      "metadata": {
        "id": "uQqTTFLkKeB2"
      },
      "execution_count": null,
      "outputs": []
    },
    {
      "cell_type": "code",
      "execution_count": null,
      "metadata": {
        "id": "cz2xet5iGwxc"
      },
      "outputs": [],
      "source": [
        "# Function to check the Monthly Expenses Calculator\n",
        "def check_calculate_expenses():\n",
        "    test_rent, test_groceries, test_utilities, test_others = 1000, 300, 150, 50\n",
        "    expected_total = test_rent + test_groceries + test_utilities + test_others\n",
        "\n",
        "    # Simulate inputs\n",
        "    print(\"Testing Monthly Expenses Calculator...\")\n",
        "    user_total = calculate_expenses(test_rent, test_groceries, test_utilities, test_others)\n",
        "\n",
        "    if user_total == expected_total:\n",
        "        print(\"Test passed!\")\n",
        "    else:\n",
        "        print(f\"Test failed. Expected: {expected_total}, Got: {user_total}\")\n",
        "\n",
        "# Function to check To-Do List Program\n",
        "def check_todo_list_program():\n",
        "    print(\"Testing To-Do List Program...\")\n",
        "    todo_list = [\"Task 1\", \"Task 2\", \"Task 3\"]\n",
        "\n",
        "    # Simulate user interactions\n",
        "    add_task(todo_list, \"Task 4\")\n",
        "    if len(todo_list) != 4 or todo_list[-1] != \"Task 4\":\n",
        "        print(\"Test failed on adding task.\")\n",
        "        return\n",
        "\n",
        "    remove_task(todo_list, 1)\n",
        "    if len(todo_list) != 3 or todo_list[0] != \"Task 2\":\n",
        "        print(\"Test failed on removing task.\")\n",
        "        return\n",
        "\n",
        "    print(\"All tests passed!\")\n",
        "\n",
        "# Add these to the notebook for students to use\n"
      ]
    },
    {
      "cell_type": "code",
      "source": [
        "import requests\n",
        "import json\n",
        "import nbformat\n",
        "\n",
        "colab_url = \"https://colab.research.google.com/drive/1kBucCfAHErlUkoufCZTLaKs9FPxIxNwS#scrollTo=05nyCWOkGZnM&uniqifier=1\"\n",
        "\n",
        "def fetch_and_validate_notebook(colab_url):\n",
        "    \"\"\"\n",
        "    Fetches a Colab notebook from the given URL and validates the outputs for defined exercises.\n",
        "\n",
        "    Args:\n",
        "        colab_url (str): The public URL to the Colab notebook.\n",
        "\n",
        "    Returns:\n",
        "        None. Prints validation results.\n",
        "    \"\"\"\n",
        "    try:\n",
        "        # Check if the provided URL is a Colab notebook URL\n",
        "        if not colab_url.startswith(\"https://colab.research.google.com/\"):\n",
        "            raise ValueError(\"The URL must be a valid Colab notebook URL.\")\n",
        "\n",
        "        # Assuming Colab notebook is accessible as a JSON file\n",
        "        # Simulate fetching the notebook content\n",
        "        response = requests.get(colab_url)\n",
        "        if response.status_code != 200:\n",
        "            raise Exception(f\"Unable to fetch notebook. HTTP Status Code: {response.status_code}\")\n",
        "\n",
        "        notebook_content = response.json()\n",
        "\n",
        "        # Parse the notebook content\n",
        "        nb = nbformat.reads(json.dumps(notebook_content), as_version=4)\n",
        "\n",
        "        # Check the code cells for specific solutions\n",
        "        code_cells = [cell for cell in nb.cells if cell.cell_type == \"code\"]\n",
        "\n",
        "        # Feedback for Monthly Expenses Calculator\n",
        "        expense_calculator_passed = False\n",
        "        for cell in code_cells:\n",
        "            if \"calculate_expenses\" in cell.source:\n",
        "                try:\n",
        "                    # Simulate running the function (you could use `exec` here with a restricted scope)\n",
        "                    exec(cell.source)\n",
        "                    result = calculate_expenses(1000, 300, 150, 50)\n",
        "                    if result == 1500:  # Example test case\n",
        "                        expense_calculator_passed = True\n",
        "                except Exception as e:\n",
        "                    print(f\"Error in 'calculate_expenses': {e}\")\n",
        "\n",
        "        if expense_calculator_passed:\n",
        "            print(\"✅ Monthly Expenses Calculator: Passed\")\n",
        "        else:\n",
        "            print(\"❌ Monthly Expenses Calculator: Failed\")\n",
        "\n",
        "        # Feedback for To-Do List Program\n",
        "        todo_list_passed = False\n",
        "        for cell in code_cells:\n",
        "            if \"todo_list_program\" in cell.source:\n",
        "                try:\n",
        "                    exec(cell.source)\n",
        "                    todo_list = []\n",
        "                    todo_list.append(\"Test Task\")\n",
        "                    todo_list_program(todo_list)\n",
        "                    if len(todo_list) > 0 and todo_list[0] == \"Test Task\":\n",
        "                        todo_list_passed = True\n",
        "                except Exception as e:\n",
        "                    print(f\"Error in 'todo_list_program': {e}\")\n",
        "\n",
        "        if todo_list_passed:\n",
        "            print(\"✅ To-Do List Program: Passed\")\n",
        "        else:\n",
        "            print(\"❌ To-Do List Program: Failed\")\n",
        "\n",
        "    except Exception as e:\n",
        "        print(f\"Error validating notebook: {e}\")\n",
        "\n",
        "fetch_and_validate_notebook(colab_url)"
      ],
      "metadata": {
        "colab": {
          "base_uri": "https://localhost:8080/"
        },
        "id": "nAgmuj4pIzyr",
        "outputId": "ee65c232-416c-4e2a-dace-d754ffb8c1d8"
      },
      "execution_count": 4,
      "outputs": [
        {
          "output_type": "stream",
          "name": "stdout",
          "text": [
            "Error validating notebook: Expecting value: line 1 column 1 (char 0)\n"
          ]
        }
      ]
    },
    {
      "cell_type": "code",
      "source": [
        "# try:\n",
        "# Check if the provided URL is a Colab notebook URL\n",
        "if not colab_url.startswith(\"https://colab.research.google.com/\"):\n",
        "    raise ValueError(\"The URL must be a valid Colab notebook URL.\")\n",
        "\n",
        "# Assuming Colab notebook is accessible as a JSON file\n",
        "# Simulate fetching the notebook content\n",
        "response = requests.get(colab_url)\n",
        "if response.status_code != 200:\n",
        "    raise Exception(f\"Unable to fetch notebook. HTTP Status Code: {response.status_code}\")\n",
        "\n",
        "notebook_content = response.json()\n",
        "\n",
        "# Parse the notebook content\n",
        "nb = nbformat.reads(json.dumps(notebook_content), as_version=4)\n",
        "\n",
        "# Check the code cells for specific solutions\n",
        "code_cells = [cell for cell in nb.cells if cell.cell_type == \"code\"]\n",
        "\n",
        "# Feedback for Monthly Expenses Calculator\n",
        "expense_calculator_passed = False\n",
        "for cell in code_cells:\n",
        "    if \"calculate_expenses\" in cell.source:\n",
        "        try:\n",
        "            # Simulate running the function (you could use `exec` here with a restricted scope)\n",
        "            exec(cell.source)\n",
        "            result = calculate_expenses(1000, 300, 150, 50)\n",
        "            if result == 1500:  # Example test case\n",
        "                expense_calculator_passed = True\n",
        "        except Exception as e:\n",
        "            print(f\"Error in 'calculate_expenses': {e}\")\n",
        "\n",
        "if expense_calculator_passed:\n",
        "    print(\"✅ Monthly Expenses Calculator: Passed\")\n",
        "else:\n",
        "    print(\"❌ Monthly Expenses Calculator: Failed\")\n",
        "\n",
        "# Feedback for To-Do List Program\n",
        "todo_list_passed = False\n",
        "for cell in code_cells:\n",
        "    if \"todo_list_program\" in cell.source:\n",
        "        try:\n",
        "            exec(cell.source)\n",
        "            todo_list = []\n",
        "            todo_list.append(\"Test Task\")\n",
        "            todo_list_program(todo_list)\n",
        "            if len(todo_list) > 0 and todo_list[0] == \"Test Task\":\n",
        "                todo_list_passed = True\n",
        "        except Exception as e:\n",
        "            print(f\"Error in 'todo_list_program': {e}\")\n",
        "\n",
        "if todo_list_passed:\n",
        "    print(\"✅ To-Do List Program: Passed\")\n",
        "else:\n",
        "    print(\"❌ To-Do List Program: Failed\")\n",
        "\n",
        "# except Exception as e:\n",
        "print(f\"Error validating notebook: {e}\")\n"
      ],
      "metadata": {
        "colab": {
          "base_uri": "https://localhost:8080/",
          "height": 408
        },
        "id": "YcHI0SQdI6ov",
        "outputId": "84bf5985-d88d-426d-bbf0-27c84aff01eb"
      },
      "execution_count": 6,
      "outputs": [
        {
          "output_type": "error",
          "ename": "JSONDecodeError",
          "evalue": "Expecting value: line 1 column 1 (char 0)",
          "traceback": [
            "\u001b[0;31m---------------------------------------------------------------------------\u001b[0m",
            "\u001b[0;31mJSONDecodeError\u001b[0m                           Traceback (most recent call last)",
            "\u001b[0;32m/usr/local/lib/python3.10/dist-packages/requests/models.py\u001b[0m in \u001b[0;36mjson\u001b[0;34m(self, **kwargs)\u001b[0m\n\u001b[1;32m    973\u001b[0m         \u001b[0;32mtry\u001b[0m\u001b[0;34m:\u001b[0m\u001b[0;34m\u001b[0m\u001b[0;34m\u001b[0m\u001b[0m\n\u001b[0;32m--> 974\u001b[0;31m             \u001b[0;32mreturn\u001b[0m \u001b[0mcomplexjson\u001b[0m\u001b[0;34m.\u001b[0m\u001b[0mloads\u001b[0m\u001b[0;34m(\u001b[0m\u001b[0mself\u001b[0m\u001b[0;34m.\u001b[0m\u001b[0mtext\u001b[0m\u001b[0;34m,\u001b[0m \u001b[0;34m**\u001b[0m\u001b[0mkwargs\u001b[0m\u001b[0;34m)\u001b[0m\u001b[0;34m\u001b[0m\u001b[0;34m\u001b[0m\u001b[0m\n\u001b[0m\u001b[1;32m    975\u001b[0m         \u001b[0;32mexcept\u001b[0m \u001b[0mJSONDecodeError\u001b[0m \u001b[0;32mas\u001b[0m \u001b[0me\u001b[0m\u001b[0;34m:\u001b[0m\u001b[0;34m\u001b[0m\u001b[0;34m\u001b[0m\u001b[0m\n",
            "\u001b[0;32m/usr/lib/python3.10/json/__init__.py\u001b[0m in \u001b[0;36mloads\u001b[0;34m(s, cls, object_hook, parse_float, parse_int, parse_constant, object_pairs_hook, **kw)\u001b[0m\n\u001b[1;32m    345\u001b[0m             parse_constant is None and object_pairs_hook is None and not kw):\n\u001b[0;32m--> 346\u001b[0;31m         \u001b[0;32mreturn\u001b[0m \u001b[0m_default_decoder\u001b[0m\u001b[0;34m.\u001b[0m\u001b[0mdecode\u001b[0m\u001b[0;34m(\u001b[0m\u001b[0ms\u001b[0m\u001b[0;34m)\u001b[0m\u001b[0;34m\u001b[0m\u001b[0;34m\u001b[0m\u001b[0m\n\u001b[0m\u001b[1;32m    347\u001b[0m     \u001b[0;32mif\u001b[0m \u001b[0mcls\u001b[0m \u001b[0;32mis\u001b[0m \u001b[0;32mNone\u001b[0m\u001b[0;34m:\u001b[0m\u001b[0;34m\u001b[0m\u001b[0;34m\u001b[0m\u001b[0m\n",
            "\u001b[0;32m/usr/lib/python3.10/json/decoder.py\u001b[0m in \u001b[0;36mdecode\u001b[0;34m(self, s, _w)\u001b[0m\n\u001b[1;32m    336\u001b[0m         \"\"\"\n\u001b[0;32m--> 337\u001b[0;31m         \u001b[0mobj\u001b[0m\u001b[0;34m,\u001b[0m \u001b[0mend\u001b[0m \u001b[0;34m=\u001b[0m \u001b[0mself\u001b[0m\u001b[0;34m.\u001b[0m\u001b[0mraw_decode\u001b[0m\u001b[0;34m(\u001b[0m\u001b[0ms\u001b[0m\u001b[0;34m,\u001b[0m \u001b[0midx\u001b[0m\u001b[0;34m=\u001b[0m\u001b[0m_w\u001b[0m\u001b[0;34m(\u001b[0m\u001b[0ms\u001b[0m\u001b[0;34m,\u001b[0m \u001b[0;36m0\u001b[0m\u001b[0;34m)\u001b[0m\u001b[0;34m.\u001b[0m\u001b[0mend\u001b[0m\u001b[0;34m(\u001b[0m\u001b[0;34m)\u001b[0m\u001b[0;34m)\u001b[0m\u001b[0;34m\u001b[0m\u001b[0;34m\u001b[0m\u001b[0m\n\u001b[0m\u001b[1;32m    338\u001b[0m         \u001b[0mend\u001b[0m \u001b[0;34m=\u001b[0m \u001b[0m_w\u001b[0m\u001b[0;34m(\u001b[0m\u001b[0ms\u001b[0m\u001b[0;34m,\u001b[0m \u001b[0mend\u001b[0m\u001b[0;34m)\u001b[0m\u001b[0;34m.\u001b[0m\u001b[0mend\u001b[0m\u001b[0;34m(\u001b[0m\u001b[0;34m)\u001b[0m\u001b[0;34m\u001b[0m\u001b[0;34m\u001b[0m\u001b[0m\n",
            "\u001b[0;32m/usr/lib/python3.10/json/decoder.py\u001b[0m in \u001b[0;36mraw_decode\u001b[0;34m(self, s, idx)\u001b[0m\n\u001b[1;32m    354\u001b[0m         \u001b[0;32mexcept\u001b[0m \u001b[0mStopIteration\u001b[0m \u001b[0;32mas\u001b[0m \u001b[0merr\u001b[0m\u001b[0;34m:\u001b[0m\u001b[0;34m\u001b[0m\u001b[0;34m\u001b[0m\u001b[0m\n\u001b[0;32m--> 355\u001b[0;31m             \u001b[0;32mraise\u001b[0m \u001b[0mJSONDecodeError\u001b[0m\u001b[0;34m(\u001b[0m\u001b[0;34m\"Expecting value\"\u001b[0m\u001b[0;34m,\u001b[0m \u001b[0ms\u001b[0m\u001b[0;34m,\u001b[0m \u001b[0merr\u001b[0m\u001b[0;34m.\u001b[0m\u001b[0mvalue\u001b[0m\u001b[0;34m)\u001b[0m \u001b[0;32mfrom\u001b[0m \u001b[0;32mNone\u001b[0m\u001b[0;34m\u001b[0m\u001b[0;34m\u001b[0m\u001b[0m\n\u001b[0m\u001b[1;32m    356\u001b[0m         \u001b[0;32mreturn\u001b[0m \u001b[0mobj\u001b[0m\u001b[0;34m,\u001b[0m \u001b[0mend\u001b[0m\u001b[0;34m\u001b[0m\u001b[0;34m\u001b[0m\u001b[0m\n",
            "\u001b[0;31mJSONDecodeError\u001b[0m: Expecting value: line 1 column 1 (char 0)",
            "\nDuring handling of the above exception, another exception occurred:\n",
            "\u001b[0;31mJSONDecodeError\u001b[0m                           Traceback (most recent call last)",
            "\u001b[0;32m<ipython-input-6-93ef7dcf8fa8>\u001b[0m in \u001b[0;36m<cell line: 12>\u001b[0;34m()\u001b[0m\n\u001b[1;32m     10\u001b[0m     \u001b[0;32mraise\u001b[0m \u001b[0mException\u001b[0m\u001b[0;34m(\u001b[0m\u001b[0;34mf\"Unable to fetch notebook. HTTP Status Code: {response.status_code}\"\u001b[0m\u001b[0;34m)\u001b[0m\u001b[0;34m\u001b[0m\u001b[0;34m\u001b[0m\u001b[0m\n\u001b[1;32m     11\u001b[0m \u001b[0;34m\u001b[0m\u001b[0m\n\u001b[0;32m---> 12\u001b[0;31m \u001b[0mnotebook_content\u001b[0m \u001b[0;34m=\u001b[0m \u001b[0mresponse\u001b[0m\u001b[0;34m.\u001b[0m\u001b[0mjson\u001b[0m\u001b[0;34m(\u001b[0m\u001b[0;34m)\u001b[0m\u001b[0;34m\u001b[0m\u001b[0;34m\u001b[0m\u001b[0m\n\u001b[0m\u001b[1;32m     13\u001b[0m \u001b[0;34m\u001b[0m\u001b[0m\n\u001b[1;32m     14\u001b[0m \u001b[0;31m# Parse the notebook content\u001b[0m\u001b[0;34m\u001b[0m\u001b[0;34m\u001b[0m\u001b[0m\n",
            "\u001b[0;32m/usr/local/lib/python3.10/dist-packages/requests/models.py\u001b[0m in \u001b[0;36mjson\u001b[0;34m(self, **kwargs)\u001b[0m\n\u001b[1;32m    976\u001b[0m             \u001b[0;31m# Catch JSON-related errors and raise as requests.JSONDecodeError\u001b[0m\u001b[0;34m\u001b[0m\u001b[0;34m\u001b[0m\u001b[0m\n\u001b[1;32m    977\u001b[0m             \u001b[0;31m# This aliases json.JSONDecodeError and simplejson.JSONDecodeError\u001b[0m\u001b[0;34m\u001b[0m\u001b[0;34m\u001b[0m\u001b[0m\n\u001b[0;32m--> 978\u001b[0;31m             \u001b[0;32mraise\u001b[0m \u001b[0mRequestsJSONDecodeError\u001b[0m\u001b[0;34m(\u001b[0m\u001b[0me\u001b[0m\u001b[0;34m.\u001b[0m\u001b[0mmsg\u001b[0m\u001b[0;34m,\u001b[0m \u001b[0me\u001b[0m\u001b[0;34m.\u001b[0m\u001b[0mdoc\u001b[0m\u001b[0;34m,\u001b[0m \u001b[0me\u001b[0m\u001b[0;34m.\u001b[0m\u001b[0mpos\u001b[0m\u001b[0;34m)\u001b[0m\u001b[0;34m\u001b[0m\u001b[0;34m\u001b[0m\u001b[0m\n\u001b[0m\u001b[1;32m    979\u001b[0m \u001b[0;34m\u001b[0m\u001b[0m\n\u001b[1;32m    980\u001b[0m     \u001b[0;34m@\u001b[0m\u001b[0mproperty\u001b[0m\u001b[0;34m\u001b[0m\u001b[0;34m\u001b[0m\u001b[0m\n",
            "\u001b[0;31mJSONDecodeError\u001b[0m: Expecting value: line 1 column 1 (char 0)"
          ]
        }
      ]
    },
    {
      "cell_type": "code",
      "source": [
        "save_and_push_to_github(\"Function Update\")"
      ],
      "metadata": {
        "id": "67cnqT56JfW7"
      },
      "execution_count": null,
      "outputs": []
    }
  ]
}