{
  "nbformat": 4,
  "nbformat_minor": 0,
  "metadata": {
    "colab": {
      "provenance": [],
      "authorship_tag": "ABX9TyNwnH1RVFB6FcN/ag2X2cxI",
      "include_colab_link": true
    },
    "kernelspec": {
      "name": "python3",
      "display_name": "Python 3"
    },
    "language_info": {
      "name": "python"
    }
  },
  "cells": [
    {
      "cell_type": "markdown",
      "metadata": {
        "id": "view-in-github",
        "colab_type": "text"
      },
      "source": [
        "<a href=\"https://colab.research.google.com/github/TeneikaAskew/taap/blob/main/Autograder.ipynb\" target=\"_parent\"><img src=\"https://colab.research.google.com/assets/colab-badge.svg\" alt=\"Open In Colab\"/></a>"
      ]
    },
    {
      "cell_type": "code",
      "source": [
        "import os\n",
        "\n",
        "def save_and_push_to_github(commit_message=\"Auto-save from Google Colab\"):\n",
        "    # Add all changes\n",
        "    os.system(\"git add .\")\n",
        "    # Commit changes\n",
        "    os.system(f'git commit -m \"{commit_message}\"')\n",
        "    # Push changes to the GitHub repository\n",
        "    os.system(\"git push origin main\")  # Use 'master' if your default branch is named 'master'\n",
        "\n",
        "\n",
        "from IPython.core.magic import register_line_cell_magic\n",
        "@register_line_cell_magic\n",
        "def autosave(line, cell):\n",
        "    # Execute the cell\n",
        "    exec(cell)\n",
        "    # After execution, save and push to GitHub\n",
        "    save_and_push_to_github(\"Autosave after cell execution\")"
      ],
      "metadata": {
        "id": "uQqTTFLkKeB2"
      },
      "execution_count": 35,
      "outputs": []
    },
    {
      "cell_type": "code",
      "execution_count": null,
      "metadata": {
        "id": "cz2xet5iGwxc"
      },
      "outputs": [],
      "source": [
        "# Function to check the Monthly Expenses Calculator\n",
        "def check_calculate_expenses():\n",
        "    test_rent, test_groceries, test_utilities, test_others = 1000, 300, 150, 50\n",
        "    expected_total = test_rent + test_groceries + test_utilities + test_others\n",
        "\n",
        "    # Simulate inputs\n",
        "    print(\"Testing Monthly Expenses Calculator...\")\n",
        "    user_total = calculate_expenses(test_rent, test_groceries, test_utilities, test_others)\n",
        "\n",
        "    if user_total == expected_total:\n",
        "        print(\"Test passed!\")\n",
        "    else:\n",
        "        print(f\"Test failed. Expected: {expected_total}, Got: {user_total}\")\n",
        "\n",
        "# Function to check To-Do List Program\n",
        "def check_todo_list_program():\n",
        "    print(\"Testing To-Do List Program...\")\n",
        "    todo_list = [\"Task 1\", \"Task 2\", \"Task 3\"]\n",
        "\n",
        "    # Simulate user interactions\n",
        "    add_task(todo_list, \"Task 4\")\n",
        "    if len(todo_list) != 4 or todo_list[-1] != \"Task 4\":\n",
        "        print(\"Test failed on adding task.\")\n",
        "        return\n",
        "\n",
        "    remove_task(todo_list, 1)\n",
        "    if len(todo_list) != 3 or todo_list[0] != \"Task 2\":\n",
        "        print(\"Test failed on removing task.\")\n",
        "        return\n",
        "\n",
        "    print(\"All tests passed!\")\n",
        "\n",
        "# Add these to the notebook for students to use\n"
      ]
    },
    {
      "source": [
        "from google.colab import auth\n",
        "from googleapiclient.discovery import build\n",
        "from googleapiclient.http import MediaIoBaseDownload\n",
        "import nbformat\n",
        "import io\n",
        "import re\n",
        "\n",
        "def fetch_notebook_from_drive(colab_url):\n",
        "    \"\"\"\n",
        "    Fetch a Colab notebook from Google Drive using its URL and your\n",
        "    authenticated Google account in Colab.\n",
        "\n",
        "    Args:\n",
        "        colab_url (str): The URL of the Colab notebook.\n",
        "\n",
        "    Returns:\n",
        "        nb (NotebookNode): Parsed notebook object.\n",
        "    \"\"\"\n",
        "    # Extract file ID from URL using regex\n",
        "    match = re.search(r\"/drive/([a-zA-Z0-9-_]+)\", colab_url.split('#')[0])\n",
        "    print(match)\n",
        "    if match:\n",
        "        file_id = match.group(1)\n",
        "    else:\n",
        "        raise ValueError(\"Invalid Colab URL format. Unable to extract file ID.\")\n",
        "\n",
        "    # Authenticate using your Google account in Colab\n",
        "    auth.authenticate_user()\n",
        "\n",
        "    # Build the Drive API client\n",
        "    drive_service = build('drive', 'v3')\n",
        "\n",
        "    # Request the file content as a downloadable file\n",
        "    # using get_media() instead of export_media()\n",
        "    request = drive_service.files().get_media(fileId=file_id)  # Changed\n",
        "    fh = io.BytesIO()\n",
        "    downloader = MediaIoBaseDownload(fh, request)\n",
        "    done = False\n",
        "\n",
        "    while not done:\n",
        "        status, done = downloader.next_chunk()\n",
        "        print(f\"Download progress: {int(status.progress() * 100)}%\")\n",
        "\n",
        "    fh.seek(0)\n",
        "    notebook_content = fh.read()\n",
        "    nb = nbformat.read(io.BytesIO(notebook_content), as_version=4)\n",
        "\n",
        "    return nb\n",
        "\n",
        "# Example usage\n",
        "colab_url = \"https://colab.research.google.com/drive/1kBucCfAHErlUkoufCZTLaKs9FPxIxNwS#scrollTo=05nyCWOkGZnM\"\n",
        "\n",
        "notebook = fetch_notebook_from_drive(colab_url)\n",
        "\n",
        "# Validate the notebook content\n",
        "print(notebook)"
      ],
      "cell_type": "code",
      "metadata": {
        "colab": {
          "base_uri": "https://localhost:8080/"
        },
        "id": "UJ0p7yxeQ5mO",
        "outputId": "aafb20f0-fa69-44e4-b40e-a00298b8d297"
      },
      "execution_count": 25,
      "outputs": [
        {
          "output_type": "stream",
          "name": "stdout",
          "text": [
            "<re.Match object; span=(33, 73), match='/drive/1kBucCfAHErlUkoufCZTLaKs9FPxIxNwS'>\n",
            "Download progress: 100%\n",
            "{'nbformat': 4, 'nbformat_minor': 0, 'metadata': {'colab': {'provenance': [], 'toc_visible': True, 'authorship_tag': 'ABX9TyPkpvRzpPavDOruyzflfutx'}, 'kernelspec': {'name': 'python3', 'display_name': 'Python 3'}, 'language_info': {'name': 'python'}}, 'cells': [{'cell_type': 'markdown', 'source': \"# Workshop 1: Introduction to Python and Foundational Concepts\\n\\n## Objective:\\nBy the end of this workshop, you will:\\n- Understand Python basics: variables, data types, loops, functions.\\n- Write simple Python programs.\\n- Complete a lab where you'll calculate monthly expenses and build a to-do list.\\n\\n---\\n\\n\", 'metadata': {'id': 'tKGZPlx8FezK'}}, {'cell_type': 'markdown', 'source': '## Part 1: Python Basics\\n### Variables and Data Types\\n- Strings\\n- Integers\\n- Floats\\n- Booleans\\n\\nRun the following examples and try out your own!\\n', 'metadata': {'id': '4Rmkr_W2IIY4'}}, {'cell_type': 'code', 'execution_count': 1, 'metadata': {'colab': {'base_uri': 'https://localhost:8080/'}, 'id': 'ZCSwP7a0D23O', 'executionInfo': {'status': 'ok', 'timestamp': 1733004484139, 'user_tz': 300, 'elapsed': 204, 'user': {'displayName': 'Teneika Askew', 'userId': '09525020931033006609'}}, 'outputId': '07abd6fb-4b56-48f5-b9da-76a15a9db2a8'}, 'outputs': [{'output_type': 'stream', 'name': 'stdout', 'text': 'Name: John Doe, Age: 25, Salary: 55000.5, Employed: True\\n'}], 'source': '# Example 1: Variables and Data Types\\nname = \"John Doe\"  # String\\nage = 25  # Integer\\nsalary = 55000.50  # Float\\nis_employed = True  # Boolean\\n\\n# Print these variables\\nprint(f\"Name: {name}, Age: {age}, Salary: {salary}, Employed: {is_employed}\")\\n'}, {'cell_type': 'markdown', 'source': '## Part 2: Input and Output\\n- Learn how to take input and display output.\\n', 'metadata': {'id': '3X-xRiwIFj17'}}, {'cell_type': 'code', 'source': '# Input and Output Example\\nuser_name = input(\"What is your name? \")\\nprint(f\"Hello, {user_name}!\")', 'metadata': {'colab': {'base_uri': 'https://localhost:8080/'}, 'id': 'NfjfV75fFmt8', 'executionInfo': {'status': 'ok', 'timestamp': 1733004492613, 'user_tz': 300, 'elapsed': 8330, 'user': {'displayName': 'Teneika Askew', 'userId': '09525020931033006609'}}, 'outputId': 'f1d7020e-93fe-4294-86d6-5fac446123d9'}, 'execution_count': 2, 'outputs': [{'output_type': 'stream', 'name': 'stdout', 'text': 'What is your name? Teneika\\nHello, Teneika!\\n'}]}, {'cell_type': 'markdown', 'source': '## Part 3: Control Flow\\n- Learn `if`, `elif`, `else` statements and loops.', 'metadata': {'id': 'ck9ZP6DgFjlU'}}, {'cell_type': 'code', 'source': '# Control Flow Example\\nnumber = int(input(\"Enter a number: \"))\\nif number > 0:\\n    print(\"The number is positive.\")\\nelif number < 0:\\n    print(\"The number is negative.\")\\nelse:\\n    print(\"The number is zero.\")\\n', 'metadata': {'colab': {'base_uri': 'https://localhost:8080/'}, 'id': 'wZPQbhVsFwDA', 'executionInfo': {'status': 'ok', 'timestamp': 1733004497618, 'user_tz': 300, 'elapsed': 5037, 'user': {'displayName': 'Teneika Askew', 'userId': '09525020931033006609'}}, 'outputId': 'c45e2a26-20c2-46fd-e9da-69f2c585f0b7'}, 'execution_count': 3, 'outputs': [{'output_type': 'stream', 'name': 'stdout', 'text': 'Enter a number: 11\\nThe number is positive.\\n'}]}, {'cell_type': 'code', 'source': '# Loop Example\\nfor i in range(1, 6):\\n    print(f\"This is loop iteration {i}\")\\n', 'metadata': {'colab': {'base_uri': 'https://localhost:8080/'}, 'id': 'vGtujlBLFzfx', 'executionInfo': {'status': 'ok', 'timestamp': 1733004497619, 'user_tz': 300, 'elapsed': 23, 'user': {'displayName': 'Teneika Askew', 'userId': '09525020931033006609'}}, 'outputId': '1dfb36c0-94af-42d8-d4f9-95043b17627e'}, 'execution_count': 4, 'outputs': [{'output_type': 'stream', 'name': 'stdout', 'text': 'This is loop iteration 1\\nThis is loop iteration 2\\nThis is loop iteration 3\\nThis is loop iteration 4\\nThis is loop iteration 5\\n'}]}, {'cell_type': 'markdown', 'source': '## Part 4: Functions\\n- Learn how to write reusable code using functions.', 'metadata': {'id': '10xZOxeEFts-'}}, {'cell_type': 'code', 'source': '# Function Example\\ndef greet_user(name):\\n    return f\"Hello, {name}!\"\\n\\nuser_name = input(\"Enter your name: \")\\nprint(greet_user(user_name))\\n', 'metadata': {'colab': {'base_uri': 'https://localhost:8080/'}, 'id': 'OQP7SMVOF3K2', 'executionInfo': {'status': 'ok', 'timestamp': 1733004503489, 'user_tz': 300, 'elapsed': 5885, 'user': {'displayName': 'Teneika Askew', 'userId': '09525020931033006609'}}, 'outputId': 'ff109e57-c6e5-438f-abd0-43c37b2feb1f'}, 'execution_count': 5, 'outputs': [{'output_type': 'stream', 'name': 'stdout', 'text': 'Enter your name: Teneika\\nHello, Teneika!\\n'}]}, {'cell_type': 'markdown', 'source': '# Lab 1: Monthly Expenses Calculator\\n\\n## Instructions:\\n1. Create a program that calculates total monthly expenses.\\n2. Take user input for expense categories like rent, groceries, etc.\\n3. Sum up the expenses and display the total.\\n\\n---\\n\\n\\n', 'metadata': {'id': 'l3mnKnZaF3jq'}}, {'cell_type': 'code', 'source': '# Lab 1: Monthly Expenses Calculator test_rent, test_groceries, test_utilities, test_others = 1000, 300, 150, 50\\ndef calculate_expenses():\\n    rent = float(input(\"Enter rent expense: \"))\\n    groceries = float(input(\"Enter groceries expense: \"))\\n    utilities = float(input(\"Enter utilities expense: \"))\\n    others = float(input(\"Enter other expenses: \"))\\n    total = rent + groceries + utilities + others\\n    print(f\"Your total monthly expenses are: ${total:.2f}\")\\n\\ncalculate_expenses()\\n', 'metadata': {'colab': {'base_uri': 'https://localhost:8080/'}, 'id': 'wP5pIxb7F3IY', 'executionInfo': {'status': 'ok', 'timestamp': 1733004519429, 'user_tz': 300, 'elapsed': 15960, 'user': {'displayName': 'Teneika Askew', 'userId': '09525020931033006609'}}, 'outputId': 'c61ce147-e280-4b66-b3ed-03c1857aa2e3'}, 'execution_count': 6, 'outputs': [{'output_type': 'stream', 'name': 'stdout', 'text': 'Enter rent expense: 1000\\nEnter groceries expense: 300\\nEnter utilities expense: 300\\nEnter other expenses: 900\\nYour total monthly expenses are: $2500.00\\n'}]}, {'cell_type': 'markdown', 'source': '# Lab 2: To-Do List Program\\n\\n## Instructions:\\n1. Create a program that allows the user to manage a simple to-do list.\\n2. Provide options to add, view, or remove tasks.\\n3. Display the updated list after each action.', 'metadata': {'id': 'iFzOf2E0GCOB'}}, {'cell_type': 'code', 'source': '# Lab 2: To-Do List Program\\ndef todo_list_program():\\n    todo_list = []\\n    while True:\\n        print(\"\\\\nOptions:\")\\n        print(\"1. Add Task\")\\n        print(\"2. View Tasks\")\\n        print(\"3. Remove Task\")\\n        print(\"4. Exit\")\\n        choice = input(\"Choose an option (1-4): \")\\n\\n        if choice == \\'1\\':\\n            task = input(\"Enter a task: \")\\n            todo_list.append(task)\\n            print(\"Task added.\\\\n\", todo_list)\\n        elif choice == \\'2\\':\\n            print(\"Your To-Do List:\")\\n            for idx, task in enumerate(todo_list, start=1):\\n                print(f\"{idx}. {task}\")\\n        elif choice == \\'3\\':\\n            print(\"Your To-Do List:\")\\n            for idx, task in enumerate(todo_list, start=1):\\n                print(f\"{idx}. {task}\")\\n            task_num = int(input(\"Enter the task number to remove: \"))\\n            if 0 < task_num <= len(todo_list):\\n                removed_task = todo_list.pop(task_num - 1)\\n                print(f\"Removed task: {removed_task}\")\\n            else:\\n                print(\"Invalid task number.\")\\n        elif choice == \\'4\\':\\n            print(\"Exiting program. Goodbye!\")\\n            break\\n        else:\\n            print(\"Invalid option. Try again.\")\\n\\ntodo_list_program()\\n', 'metadata': {'colab': {'base_uri': 'https://localhost:8080/'}, 'id': 'd9KwDPuNF20P', 'executionInfo': {'status': 'ok', 'timestamp': 1733004774659, 'user_tz': 300, 'elapsed': 39793, 'user': {'displayName': 'Teneika Askew', 'userId': '09525020931033006609'}}, 'outputId': '2ea11ba7-4f4a-4b1d-bf35-48a1f93b50f1'}, 'execution_count': 10, 'outputs': [{'output_type': 'stream', 'name': 'stdout', 'text': \"\\nOptions:\\n1. Add Task\\n2. View Tasks\\n3. Remove Task\\n4. Exit\\nChoose an option (1-4): 1\\nEnter a task: groceries\\nTask added.\\n ['groceries']\\n\\nOptions:\\n1. Add Task\\n2. View Tasks\\n3. Remove Task\\n4. Exit\\nChoose an option (1-4): 2\\nYour To-Do List:\\n1. groceries\\n\\nOptions:\\n1. Add Task\\n2. View Tasks\\n3. Remove Task\\n4. Exit\\nChoose an option (1-4): baby wipes\\nInvalid option. Try again.\\n\\nOptions:\\n1. Add Task\\n2. View Tasks\\n3. Remove Task\\n4. Exit\\nChoose an option (1-4): 1\\nEnter a task: baby wipes\\nTask added.\\n ['groceries', 'baby wipes']\\n\\nOptions:\\n1. Add Task\\n2. View Tasks\\n3. Remove Task\\n4. Exit\\nChoose an option (1-4): 4\\nExiting program. Goodbye!\\n\"}]}, {'cell_type': 'markdown', 'source': '# Homework\\n1. Write a Python program that:\\n   - Takes a list of numbers from the user.\\n   - Calculates the sum, average, maximum, and minimum of the numbers.\\n\\n2. Write a program to simulate a basic calculator:\\n   - Allow the user to perform addition, subtraction, multiplication, and division.\\n', 'metadata': {'id': 'iutwHR8GGQEX'}}, {'cell_type': 'code', 'source': '# Function to check the Monthly Expenses Calculator\\ndef check_calculate_expenses():\\n    test_rent, test_groceries, test_utilities, test_others = 1000, 300, 150, 50\\n    expected_total = test_rent + test_groceries + test_utilities + test_others\\n\\n    # Simulate inputs\\n    print(\"Testing Monthly Expenses Calculator...\")\\n    user_total = calculate_expenses(test_rent, test_groceries, test_utilities, test_others)\\n\\n    if user_total == expected_total:\\n        print(\"Test passed!\")\\n    else:\\n        print(f\"Test failed. Expected: {expected_total}, Got: {user_total}\")', 'metadata': {'id': '7tnB1xV3GM3D', 'executionInfo': {'status': 'ok', 'timestamp': 1733004541199, 'user_tz': 300, 'elapsed': 8, 'user': {'displayName': 'Teneika Askew', 'userId': '09525020931033006609'}}}, 'execution_count': 8, 'outputs': []}, {'cell_type': 'code', 'source': '\\n# Function to check To-Do List Program\\ndef check_todo_list_program():\\n    print(\"Testing To-Do List Program...\")\\n    todo_list = [\"Task 1\", \"Task 2\", \"Task 3\"]\\n\\n    # Simulate user interactions\\n    add_task(todo_list, \"Task 4\")\\n    if len(todo_list) != 4 or todo_list[-1] != \"Task 4\":\\n        print(\"Test failed on adding task.\")\\n        return\\n\\n    remove_task(todo_list, 1)\\n    if len(todo_list) != 3 or todo_list[0] != \"Task 2\":\\n        print(\"Test failed on removing task.\")\\n        return\\n\\n    print(\"All tests passed!\")', 'metadata': {'id': '05nyCWOkGZnM', 'executionInfo': {'status': 'ok', 'timestamp': 1733004541199, 'user_tz': 300, 'elapsed': 7, 'user': {'displayName': 'Teneika Askew', 'userId': '09525020931033006609'}}}, 'execution_count': 9, 'outputs': []}]}\n"
          ]
        }
      ]
    },
    {
      "source": [
        "def validate_notebook(colab_url):\n",
        "    \"\"\"\n",
        "    Fetches a Colab notebook from the given URL and validates the outputs for defined exercises.\n",
        "\n",
        "    Args:\n",
        "        colab_url (str): The public URL to the Colab notebook.\n",
        "\n",
        "    Returns:\n",
        "        None. Prints validation results.\n",
        "    \"\"\"\n",
        "    try:  # The 'try' block should enclose the code that might raise exceptions\n",
        "        notebook = fetch_notebook_from_drive(colab_url)\n",
        "\n",
        "        # Parse the notebook content\n",
        "        # nb = nbformat.reads(json.dumps(notebook_content), as_version=4)  # This line likely had an indentation error\n",
        "        # Notebook is already parsed in fetch_notebook_from_drive, access it directly\n",
        "        nb = notebook\n",
        "\n",
        "        # Check the code cells for specific solutions\n",
        "        code_cells = [cell for cell in nb.cells if cell.cell_type == \"code\"]\n",
        "\n",
        "        # Feedback for Monthly Expenses Calculator\n",
        "        expense_calculator_passed = False\n",
        "        for cell in code_cells:\n",
        "            if \"calculate_expenses\" in cell.source:\n",
        "                try:\n",
        "                    # Simulate running the function (you could use `exec` here with a restricted scope)\n",
        "                    exec(cell.source, globals()) # Provide globals() for exec to find calculate_expenses\n",
        "                    result = calculate_expenses(1000, 300, 150, 50)\n",
        "                    if result == 1500:  # Example test case\n",
        "                        expense_calculator_passed = True\n",
        "                except Exception as e:\n",
        "                    print(f\"Error in 'calculate_expenses': {e}\")\n",
        "\n",
        "        if expense_calculator_passed:\n",
        "            print(\"✅ Monthly Expenses Calculator: Passed\")\n",
        "        else:\n",
        "            print(\"❌ Monthly Expenses Calculator: Failed\")\n",
        "\n",
        "        # Feedback for To-Do List Program\n",
        "        todo_list_passed = False\n",
        "        for cell in code_cells:\n",
        "            if \"todo_list_program\" in cell.source:\n",
        "                try:\n",
        "                    exec(cell.source, globals()) # Provide globals() for exec to find todo_list_program\n",
        "                    todo_list = []\n",
        "                    todo_list.append(\"Test Task\")\n",
        "                    todo_list_program(todo_list) # Assuming todo_list_program is defined\n",
        "                    if len(todo_list) > 0 and todo_list[0] == \"Test Task\":\n",
        "                        todo_list_passed = True\n",
        "                except Exception as e:\n",
        "                    print(f\"Error in 'todo_list_program': {e}\")\n",
        "\n",
        "        if todo_list_passed:\n",
        "            print(\"✅ To-Do List Program: Passed\")\n",
        "        else:\n",
        "            print(\"❌ To-Do List Program: Failed\")\n",
        "\n",
        "    except Exception as e:  # This 'except' block is now correctly indented\n",
        "        print(f\"Error validating notebook: {e}\")\n",
        "\n",
        "    return expense_calculator_passed, todo_list_passed # Return the results\n",
        "\n",
        "colab_url = \"https://colab.research.google.com/drive/1kBucCfAHErlUkoufCZTLaKs9FPxIxNwS#scrollTo=05nyCWOkGZnM\"\n",
        "validate_notebook(colab_url)"
      ],
      "cell_type": "code",
      "metadata": {
        "colab": {
          "base_uri": "https://localhost:8080/",
          "height": 668
        },
        "id": "YPVO8GhfSZdR",
        "outputId": "efb3966c-1fed-4c68-b44b-473c8e80aa24"
      },
      "execution_count": 33,
      "outputs": [
        {
          "output_type": "stream",
          "name": "stdout",
          "text": [
            "<re.Match object; span=(33, 73), match='/drive/1kBucCfAHErlUkoufCZTLaKs9FPxIxNwS'>\n",
            "Download progress: 100%\n",
            "Enter rent expense: 1000\n",
            "Enter groceries expense: 300\n",
            "Enter utilities expense: 150\n",
            "Enter other expenses: 50\n",
            "Your total monthly expenses are: $1500.00\n",
            "Error in 'calculate_expenses': calculate_expenses() takes 0 positional arguments but 4 were given\n",
            "Error in 'calculate_expenses': calculate_expenses() takes 0 positional arguments but 4 were given\n",
            "❌ Monthly Expenses Calculator: Failed\n",
            "\n",
            "Options:\n",
            "1. Add Task\n",
            "2. View Tasks\n",
            "3. Remove Task\n",
            "4. Exit\n"
          ]
        },
        {
          "output_type": "error",
          "ename": "KeyboardInterrupt",
          "evalue": "Interrupted by user",
          "traceback": [
            "\u001b[0;31m---------------------------------------------------------------------------\u001b[0m",
            "\u001b[0;31mKeyboardInterrupt\u001b[0m                         Traceback (most recent call last)",
            "\u001b[0;32m<ipython-input-33-c76f5c8e8889>\u001b[0m in \u001b[0;36m<cell line: 65>\u001b[0;34m()\u001b[0m\n\u001b[1;32m     63\u001b[0m \u001b[0;34m\u001b[0m\u001b[0m\n\u001b[1;32m     64\u001b[0m \u001b[0mcolab_url\u001b[0m \u001b[0;34m=\u001b[0m \u001b[0;34m\"https://colab.research.google.com/drive/1kBucCfAHErlUkoufCZTLaKs9FPxIxNwS#scrollTo=05nyCWOkGZnM\"\u001b[0m\u001b[0;34m\u001b[0m\u001b[0;34m\u001b[0m\u001b[0m\n\u001b[0;32m---> 65\u001b[0;31m \u001b[0mvalidate_notebook\u001b[0m\u001b[0;34m(\u001b[0m\u001b[0mcolab_url\u001b[0m\u001b[0;34m)\u001b[0m\u001b[0;34m\u001b[0m\u001b[0;34m\u001b[0m\u001b[0m\n\u001b[0m",
            "\u001b[0;32m<ipython-input-33-c76f5c8e8889>\u001b[0m in \u001b[0;36mvalidate_notebook\u001b[0;34m(colab_url)\u001b[0m\n\u001b[1;32m     43\u001b[0m             \u001b[0;32mif\u001b[0m \u001b[0;34m\"todo_list_program\"\u001b[0m \u001b[0;32min\u001b[0m \u001b[0mcell\u001b[0m\u001b[0;34m.\u001b[0m\u001b[0msource\u001b[0m\u001b[0;34m:\u001b[0m\u001b[0;34m\u001b[0m\u001b[0;34m\u001b[0m\u001b[0m\n\u001b[1;32m     44\u001b[0m                 \u001b[0;32mtry\u001b[0m\u001b[0;34m:\u001b[0m\u001b[0;34m\u001b[0m\u001b[0;34m\u001b[0m\u001b[0m\n\u001b[0;32m---> 45\u001b[0;31m                     \u001b[0mexec\u001b[0m\u001b[0;34m(\u001b[0m\u001b[0mcell\u001b[0m\u001b[0;34m.\u001b[0m\u001b[0msource\u001b[0m\u001b[0;34m,\u001b[0m \u001b[0mglobals\u001b[0m\u001b[0;34m(\u001b[0m\u001b[0;34m)\u001b[0m\u001b[0;34m)\u001b[0m \u001b[0;31m# Provide globals() for exec to find todo_list_program\u001b[0m\u001b[0;34m\u001b[0m\u001b[0;34m\u001b[0m\u001b[0m\n\u001b[0m\u001b[1;32m     46\u001b[0m                     \u001b[0mtodo_list\u001b[0m \u001b[0;34m=\u001b[0m \u001b[0;34m[\u001b[0m\u001b[0;34m]\u001b[0m\u001b[0;34m\u001b[0m\u001b[0;34m\u001b[0m\u001b[0m\n\u001b[1;32m     47\u001b[0m                     \u001b[0mtodo_list\u001b[0m\u001b[0;34m.\u001b[0m\u001b[0mappend\u001b[0m\u001b[0;34m(\u001b[0m\u001b[0;34m\"Test Task\"\u001b[0m\u001b[0;34m)\u001b[0m\u001b[0;34m\u001b[0m\u001b[0;34m\u001b[0m\u001b[0m\n",
            "\u001b[0;32m<string>\u001b[0m in \u001b[0;36m<module>\u001b[0;34m\u001b[0m\n",
            "\u001b[0;32m<string>\u001b[0m in \u001b[0;36mtodo_list_program\u001b[0;34m()\u001b[0m\n",
            "\u001b[0;32m/usr/local/lib/python3.10/dist-packages/ipykernel/kernelbase.py\u001b[0m in \u001b[0;36mraw_input\u001b[0;34m(self, prompt)\u001b[0m\n\u001b[1;32m    849\u001b[0m                 \u001b[0;34m\"raw_input was called, but this frontend does not support input requests.\"\u001b[0m\u001b[0;34m\u001b[0m\u001b[0;34m\u001b[0m\u001b[0m\n\u001b[1;32m    850\u001b[0m             )\n\u001b[0;32m--> 851\u001b[0;31m         return self._input_request(str(prompt),\n\u001b[0m\u001b[1;32m    852\u001b[0m             \u001b[0mself\u001b[0m\u001b[0;34m.\u001b[0m\u001b[0m_parent_ident\u001b[0m\u001b[0;34m,\u001b[0m\u001b[0;34m\u001b[0m\u001b[0;34m\u001b[0m\u001b[0m\n\u001b[1;32m    853\u001b[0m             \u001b[0mself\u001b[0m\u001b[0;34m.\u001b[0m\u001b[0m_parent_header\u001b[0m\u001b[0;34m,\u001b[0m\u001b[0;34m\u001b[0m\u001b[0;34m\u001b[0m\u001b[0m\n",
            "\u001b[0;32m/usr/local/lib/python3.10/dist-packages/ipykernel/kernelbase.py\u001b[0m in \u001b[0;36m_input_request\u001b[0;34m(self, prompt, ident, parent, password)\u001b[0m\n\u001b[1;32m    893\u001b[0m             \u001b[0;32mexcept\u001b[0m \u001b[0mKeyboardInterrupt\u001b[0m\u001b[0;34m:\u001b[0m\u001b[0;34m\u001b[0m\u001b[0;34m\u001b[0m\u001b[0m\n\u001b[1;32m    894\u001b[0m                 \u001b[0;31m# re-raise KeyboardInterrupt, to truncate traceback\u001b[0m\u001b[0;34m\u001b[0m\u001b[0;34m\u001b[0m\u001b[0m\n\u001b[0;32m--> 895\u001b[0;31m                 \u001b[0;32mraise\u001b[0m \u001b[0mKeyboardInterrupt\u001b[0m\u001b[0;34m(\u001b[0m\u001b[0;34m\"Interrupted by user\"\u001b[0m\u001b[0;34m)\u001b[0m \u001b[0;32mfrom\u001b[0m \u001b[0;32mNone\u001b[0m\u001b[0;34m\u001b[0m\u001b[0;34m\u001b[0m\u001b[0m\n\u001b[0m\u001b[1;32m    896\u001b[0m             \u001b[0;32mexcept\u001b[0m \u001b[0mException\u001b[0m \u001b[0;32mas\u001b[0m \u001b[0me\u001b[0m\u001b[0;34m:\u001b[0m\u001b[0;34m\u001b[0m\u001b[0;34m\u001b[0m\u001b[0m\n\u001b[1;32m    897\u001b[0m                 \u001b[0mself\u001b[0m\u001b[0;34m.\u001b[0m\u001b[0mlog\u001b[0m\u001b[0;34m.\u001b[0m\u001b[0mwarning\u001b[0m\u001b[0;34m(\u001b[0m\u001b[0;34m\"Invalid Message:\"\u001b[0m\u001b[0;34m,\u001b[0m \u001b[0mexc_info\u001b[0m\u001b[0;34m=\u001b[0m\u001b[0;32mTrue\u001b[0m\u001b[0;34m)\u001b[0m\u001b[0;34m\u001b[0m\u001b[0;34m\u001b[0m\u001b[0m\n",
            "\u001b[0;31mKeyboardInterrupt\u001b[0m: Interrupted by user"
          ]
        }
      ]
    },
    {
      "cell_type": "code",
      "source": [
        "notebook"
      ],
      "metadata": {
        "colab": {
          "base_uri": "https://localhost:8080/"
        },
        "id": "gsXup9X7RBLp",
        "outputId": "6f67b420-43ae-416a-eb4c-e485effa3069"
      },
      "execution_count": 26,
      "outputs": [
        {
          "output_type": "execute_result",
          "data": {
            "text/plain": [
              "{'nbformat': 4,\n",
              " 'nbformat_minor': 0,\n",
              " 'metadata': {'colab': {'provenance': [],\n",
              "   'toc_visible': True,\n",
              "   'authorship_tag': 'ABX9TyPkpvRzpPavDOruyzflfutx'},\n",
              "  'kernelspec': {'name': 'python3', 'display_name': 'Python 3'},\n",
              "  'language_info': {'name': 'python'}},\n",
              " 'cells': [{'cell_type': 'markdown',\n",
              "   'source': \"# Workshop 1: Introduction to Python and Foundational Concepts\\n\\n## Objective:\\nBy the end of this workshop, you will:\\n- Understand Python basics: variables, data types, loops, functions.\\n- Write simple Python programs.\\n- Complete a lab where you'll calculate monthly expenses and build a to-do list.\\n\\n---\\n\\n\",\n",
              "   'metadata': {'id': 'tKGZPlx8FezK'}},\n",
              "  {'cell_type': 'markdown',\n",
              "   'source': '## Part 1: Python Basics\\n### Variables and Data Types\\n- Strings\\n- Integers\\n- Floats\\n- Booleans\\n\\nRun the following examples and try out your own!\\n',\n",
              "   'metadata': {'id': '4Rmkr_W2IIY4'}},\n",
              "  {'cell_type': 'code',\n",
              "   'execution_count': 1,\n",
              "   'metadata': {'colab': {'base_uri': 'https://localhost:8080/'},\n",
              "    'id': 'ZCSwP7a0D23O',\n",
              "    'executionInfo': {'status': 'ok',\n",
              "     'timestamp': 1733004484139,\n",
              "     'user_tz': 300,\n",
              "     'elapsed': 204,\n",
              "     'user': {'displayName': 'Teneika Askew',\n",
              "      'userId': '09525020931033006609'}},\n",
              "    'outputId': '07abd6fb-4b56-48f5-b9da-76a15a9db2a8'},\n",
              "   'outputs': [{'output_type': 'stream',\n",
              "     'name': 'stdout',\n",
              "     'text': 'Name: John Doe, Age: 25, Salary: 55000.5, Employed: True\\n'}],\n",
              "   'source': '# Example 1: Variables and Data Types\\nname = \"John Doe\"  # String\\nage = 25  # Integer\\nsalary = 55000.50  # Float\\nis_employed = True  # Boolean\\n\\n# Print these variables\\nprint(f\"Name: {name}, Age: {age}, Salary: {salary}, Employed: {is_employed}\")\\n'},\n",
              "  {'cell_type': 'markdown',\n",
              "   'source': '## Part 2: Input and Output\\n- Learn how to take input and display output.\\n',\n",
              "   'metadata': {'id': '3X-xRiwIFj17'}},\n",
              "  {'cell_type': 'code',\n",
              "   'source': '# Input and Output Example\\nuser_name = input(\"What is your name? \")\\nprint(f\"Hello, {user_name}!\")',\n",
              "   'metadata': {'colab': {'base_uri': 'https://localhost:8080/'},\n",
              "    'id': 'NfjfV75fFmt8',\n",
              "    'executionInfo': {'status': 'ok',\n",
              "     'timestamp': 1733004492613,\n",
              "     'user_tz': 300,\n",
              "     'elapsed': 8330,\n",
              "     'user': {'displayName': 'Teneika Askew',\n",
              "      'userId': '09525020931033006609'}},\n",
              "    'outputId': 'f1d7020e-93fe-4294-86d6-5fac446123d9'},\n",
              "   'execution_count': 2,\n",
              "   'outputs': [{'output_type': 'stream',\n",
              "     'name': 'stdout',\n",
              "     'text': 'What is your name? Teneika\\nHello, Teneika!\\n'}]},\n",
              "  {'cell_type': 'markdown',\n",
              "   'source': '## Part 3: Control Flow\\n- Learn `if`, `elif`, `else` statements and loops.',\n",
              "   'metadata': {'id': 'ck9ZP6DgFjlU'}},\n",
              "  {'cell_type': 'code',\n",
              "   'source': '# Control Flow Example\\nnumber = int(input(\"Enter a number: \"))\\nif number > 0:\\n    print(\"The number is positive.\")\\nelif number < 0:\\n    print(\"The number is negative.\")\\nelse:\\n    print(\"The number is zero.\")\\n',\n",
              "   'metadata': {'colab': {'base_uri': 'https://localhost:8080/'},\n",
              "    'id': 'wZPQbhVsFwDA',\n",
              "    'executionInfo': {'status': 'ok',\n",
              "     'timestamp': 1733004497618,\n",
              "     'user_tz': 300,\n",
              "     'elapsed': 5037,\n",
              "     'user': {'displayName': 'Teneika Askew',\n",
              "      'userId': '09525020931033006609'}},\n",
              "    'outputId': 'c45e2a26-20c2-46fd-e9da-69f2c585f0b7'},\n",
              "   'execution_count': 3,\n",
              "   'outputs': [{'output_type': 'stream',\n",
              "     'name': 'stdout',\n",
              "     'text': 'Enter a number: 11\\nThe number is positive.\\n'}]},\n",
              "  {'cell_type': 'code',\n",
              "   'source': '# Loop Example\\nfor i in range(1, 6):\\n    print(f\"This is loop iteration {i}\")\\n',\n",
              "   'metadata': {'colab': {'base_uri': 'https://localhost:8080/'},\n",
              "    'id': 'vGtujlBLFzfx',\n",
              "    'executionInfo': {'status': 'ok',\n",
              "     'timestamp': 1733004497619,\n",
              "     'user_tz': 300,\n",
              "     'elapsed': 23,\n",
              "     'user': {'displayName': 'Teneika Askew',\n",
              "      'userId': '09525020931033006609'}},\n",
              "    'outputId': '1dfb36c0-94af-42d8-d4f9-95043b17627e'},\n",
              "   'execution_count': 4,\n",
              "   'outputs': [{'output_type': 'stream',\n",
              "     'name': 'stdout',\n",
              "     'text': 'This is loop iteration 1\\nThis is loop iteration 2\\nThis is loop iteration 3\\nThis is loop iteration 4\\nThis is loop iteration 5\\n'}]},\n",
              "  {'cell_type': 'markdown',\n",
              "   'source': '## Part 4: Functions\\n- Learn how to write reusable code using functions.',\n",
              "   'metadata': {'id': '10xZOxeEFts-'}},\n",
              "  {'cell_type': 'code',\n",
              "   'source': '# Function Example\\ndef greet_user(name):\\n    return f\"Hello, {name}!\"\\n\\nuser_name = input(\"Enter your name: \")\\nprint(greet_user(user_name))\\n',\n",
              "   'metadata': {'colab': {'base_uri': 'https://localhost:8080/'},\n",
              "    'id': 'OQP7SMVOF3K2',\n",
              "    'executionInfo': {'status': 'ok',\n",
              "     'timestamp': 1733004503489,\n",
              "     'user_tz': 300,\n",
              "     'elapsed': 5885,\n",
              "     'user': {'displayName': 'Teneika Askew',\n",
              "      'userId': '09525020931033006609'}},\n",
              "    'outputId': 'ff109e57-c6e5-438f-abd0-43c37b2feb1f'},\n",
              "   'execution_count': 5,\n",
              "   'outputs': [{'output_type': 'stream',\n",
              "     'name': 'stdout',\n",
              "     'text': 'Enter your name: Teneika\\nHello, Teneika!\\n'}]},\n",
              "  {'cell_type': 'markdown',\n",
              "   'source': '# Lab 1: Monthly Expenses Calculator\\n\\n## Instructions:\\n1. Create a program that calculates total monthly expenses.\\n2. Take user input for expense categories like rent, groceries, etc.\\n3. Sum up the expenses and display the total.\\n\\n---\\n\\n\\n',\n",
              "   'metadata': {'id': 'l3mnKnZaF3jq'}},\n",
              "  {'cell_type': 'code',\n",
              "   'source': '# Lab 1: Monthly Expenses Calculator test_rent, test_groceries, test_utilities, test_others = 1000, 300, 150, 50\\ndef calculate_expenses():\\n    rent = float(input(\"Enter rent expense: \"))\\n    groceries = float(input(\"Enter groceries expense: \"))\\n    utilities = float(input(\"Enter utilities expense: \"))\\n    others = float(input(\"Enter other expenses: \"))\\n    total = rent + groceries + utilities + others\\n    print(f\"Your total monthly expenses are: ${total:.2f}\")\\n\\ncalculate_expenses()\\n',\n",
              "   'metadata': {'colab': {'base_uri': 'https://localhost:8080/'},\n",
              "    'id': 'wP5pIxb7F3IY',\n",
              "    'executionInfo': {'status': 'ok',\n",
              "     'timestamp': 1733004519429,\n",
              "     'user_tz': 300,\n",
              "     'elapsed': 15960,\n",
              "     'user': {'displayName': 'Teneika Askew',\n",
              "      'userId': '09525020931033006609'}},\n",
              "    'outputId': 'c61ce147-e280-4b66-b3ed-03c1857aa2e3'},\n",
              "   'execution_count': 6,\n",
              "   'outputs': [{'output_type': 'stream',\n",
              "     'name': 'stdout',\n",
              "     'text': 'Enter rent expense: 1000\\nEnter groceries expense: 300\\nEnter utilities expense: 300\\nEnter other expenses: 900\\nYour total monthly expenses are: $2500.00\\n'}]},\n",
              "  {'cell_type': 'markdown',\n",
              "   'source': '# Lab 2: To-Do List Program\\n\\n## Instructions:\\n1. Create a program that allows the user to manage a simple to-do list.\\n2. Provide options to add, view, or remove tasks.\\n3. Display the updated list after each action.',\n",
              "   'metadata': {'id': 'iFzOf2E0GCOB'}},\n",
              "  {'cell_type': 'code',\n",
              "   'source': '# Lab 2: To-Do List Program\\ndef todo_list_program():\\n    todo_list = []\\n    while True:\\n        print(\"\\\\nOptions:\")\\n        print(\"1. Add Task\")\\n        print(\"2. View Tasks\")\\n        print(\"3. Remove Task\")\\n        print(\"4. Exit\")\\n        choice = input(\"Choose an option (1-4): \")\\n\\n        if choice == \\'1\\':\\n            task = input(\"Enter a task: \")\\n            todo_list.append(task)\\n            print(\"Task added.\\\\n\", todo_list)\\n        elif choice == \\'2\\':\\n            print(\"Your To-Do List:\")\\n            for idx, task in enumerate(todo_list, start=1):\\n                print(f\"{idx}. {task}\")\\n        elif choice == \\'3\\':\\n            print(\"Your To-Do List:\")\\n            for idx, task in enumerate(todo_list, start=1):\\n                print(f\"{idx}. {task}\")\\n            task_num = int(input(\"Enter the task number to remove: \"))\\n            if 0 < task_num <= len(todo_list):\\n                removed_task = todo_list.pop(task_num - 1)\\n                print(f\"Removed task: {removed_task}\")\\n            else:\\n                print(\"Invalid task number.\")\\n        elif choice == \\'4\\':\\n            print(\"Exiting program. Goodbye!\")\\n            break\\n        else:\\n            print(\"Invalid option. Try again.\")\\n\\ntodo_list_program()\\n',\n",
              "   'metadata': {'colab': {'base_uri': 'https://localhost:8080/'},\n",
              "    'id': 'd9KwDPuNF20P',\n",
              "    'executionInfo': {'status': 'ok',\n",
              "     'timestamp': 1733004774659,\n",
              "     'user_tz': 300,\n",
              "     'elapsed': 39793,\n",
              "     'user': {'displayName': 'Teneika Askew',\n",
              "      'userId': '09525020931033006609'}},\n",
              "    'outputId': '2ea11ba7-4f4a-4b1d-bf35-48a1f93b50f1'},\n",
              "   'execution_count': 10,\n",
              "   'outputs': [{'output_type': 'stream',\n",
              "     'name': 'stdout',\n",
              "     'text': \"\\nOptions:\\n1. Add Task\\n2. View Tasks\\n3. Remove Task\\n4. Exit\\nChoose an option (1-4): 1\\nEnter a task: groceries\\nTask added.\\n ['groceries']\\n\\nOptions:\\n1. Add Task\\n2. View Tasks\\n3. Remove Task\\n4. Exit\\nChoose an option (1-4): 2\\nYour To-Do List:\\n1. groceries\\n\\nOptions:\\n1. Add Task\\n2. View Tasks\\n3. Remove Task\\n4. Exit\\nChoose an option (1-4): baby wipes\\nInvalid option. Try again.\\n\\nOptions:\\n1. Add Task\\n2. View Tasks\\n3. Remove Task\\n4. Exit\\nChoose an option (1-4): 1\\nEnter a task: baby wipes\\nTask added.\\n ['groceries', 'baby wipes']\\n\\nOptions:\\n1. Add Task\\n2. View Tasks\\n3. Remove Task\\n4. Exit\\nChoose an option (1-4): 4\\nExiting program. Goodbye!\\n\"}]},\n",
              "  {'cell_type': 'markdown',\n",
              "   'source': '# Homework\\n1. Write a Python program that:\\n   - Takes a list of numbers from the user.\\n   - Calculates the sum, average, maximum, and minimum of the numbers.\\n\\n2. Write a program to simulate a basic calculator:\\n   - Allow the user to perform addition, subtraction, multiplication, and division.\\n',\n",
              "   'metadata': {'id': 'iutwHR8GGQEX'}},\n",
              "  {'cell_type': 'code',\n",
              "   'source': '# Function to check the Monthly Expenses Calculator\\ndef check_calculate_expenses():\\n    test_rent, test_groceries, test_utilities, test_others = 1000, 300, 150, 50\\n    expected_total = test_rent + test_groceries + test_utilities + test_others\\n\\n    # Simulate inputs\\n    print(\"Testing Monthly Expenses Calculator...\")\\n    user_total = calculate_expenses(test_rent, test_groceries, test_utilities, test_others)\\n\\n    if user_total == expected_total:\\n        print(\"Test passed!\")\\n    else:\\n        print(f\"Test failed. Expected: {expected_total}, Got: {user_total}\")',\n",
              "   'metadata': {'id': '7tnB1xV3GM3D',\n",
              "    'executionInfo': {'status': 'ok',\n",
              "     'timestamp': 1733004541199,\n",
              "     'user_tz': 300,\n",
              "     'elapsed': 8,\n",
              "     'user': {'displayName': 'Teneika Askew',\n",
              "      'userId': '09525020931033006609'}}},\n",
              "   'execution_count': 8,\n",
              "   'outputs': []},\n",
              "  {'cell_type': 'code',\n",
              "   'source': '\\n# Function to check To-Do List Program\\ndef check_todo_list_program():\\n    print(\"Testing To-Do List Program...\")\\n    todo_list = [\"Task 1\", \"Task 2\", \"Task 3\"]\\n\\n    # Simulate user interactions\\n    add_task(todo_list, \"Task 4\")\\n    if len(todo_list) != 4 or todo_list[-1] != \"Task 4\":\\n        print(\"Test failed on adding task.\")\\n        return\\n\\n    remove_task(todo_list, 1)\\n    if len(todo_list) != 3 or todo_list[0] != \"Task 2\":\\n        print(\"Test failed on removing task.\")\\n        return\\n\\n    print(\"All tests passed!\")',\n",
              "   'metadata': {'id': '05nyCWOkGZnM',\n",
              "    'executionInfo': {'status': 'ok',\n",
              "     'timestamp': 1733004541199,\n",
              "     'user_tz': 300,\n",
              "     'elapsed': 7,\n",
              "     'user': {'displayName': 'Teneika Askew',\n",
              "      'userId': '09525020931033006609'}}},\n",
              "   'execution_count': 9,\n",
              "   'outputs': []}]}"
            ]
          },
          "metadata": {},
          "execution_count": 26
        }
      ]
    },
    {
      "source": [
        "colab_url = \"https://colab.research.google.com/drive/1kBucCfAHErlUkoufCZTLaKs9FPxIxNwS#scrollTo=05nyCWOkGZnM\"\n",
        "# Corrected regex to match the file ID after '/drive/'\n",
        "match = re.search(r\"/drive/([a-zA-Z0-9-_]+)\", colab_url.split('#')[0])\n",
        "print(match)\n",
        "if match:\n",
        "    file_id = match.group(1)\n",
        "else:\n",
        "    raise ValueError(\"Invalid Colab URL format. Unable to extract file ID.\")"
      ],
      "cell_type": "code",
      "metadata": {
        "colab": {
          "base_uri": "https://localhost:8080/"
        },
        "id": "5nujrmGwQBSh",
        "outputId": "709da5c7-43e0-4c53-f163-43fd8d5c3ae7"
      },
      "execution_count": 23,
      "outputs": [
        {
          "output_type": "stream",
          "name": "stdout",
          "text": [
            "<re.Match object; span=(33, 73), match='/drive/1kBucCfAHErlUkoufCZTLaKs9FPxIxNwS'>\n"
          ]
        }
      ]
    },
    {
      "cell_type": "code",
      "source": [
        "save_and_push_to_github(\"Function Update\")"
      ],
      "metadata": {
        "colab": {
          "base_uri": "https://localhost:8080/",
          "height": 141
        },
        "id": "67cnqT56JfW7",
        "outputId": "d0409bdc-5900-40cc-e7cc-0c54d349708d"
      },
      "execution_count": 34,
      "outputs": [
        {
          "output_type": "error",
          "ename": "NameError",
          "evalue": "name 'save_and_push_to_github' is not defined",
          "traceback": [
            "\u001b[0;31m---------------------------------------------------------------------------\u001b[0m",
            "\u001b[0;31mNameError\u001b[0m                                 Traceback (most recent call last)",
            "\u001b[0;32m<ipython-input-34-826344a536ad>\u001b[0m in \u001b[0;36m<cell line: 1>\u001b[0;34m()\u001b[0m\n\u001b[0;32m----> 1\u001b[0;31m \u001b[0msave_and_push_to_github\u001b[0m\u001b[0;34m(\u001b[0m\u001b[0;34m\"Function Update\"\u001b[0m\u001b[0;34m)\u001b[0m\u001b[0;34m\u001b[0m\u001b[0;34m\u001b[0m\u001b[0m\n\u001b[0m",
            "\u001b[0;31mNameError\u001b[0m: name 'save_and_push_to_github' is not defined"
          ]
        }
      ]
    },
    {
      "cell_type": "code",
      "source": [],
      "metadata": {
        "id": "XCFpPnP5TgcE"
      },
      "execution_count": null,
      "outputs": []
    }
  ]
}