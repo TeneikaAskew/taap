{
  "nbformat": 4,
  "nbformat_minor": 0,
  "metadata": {
    "colab": {
      "provenance": [],
      "authorship_tag": "ABX9TyOOOXXUxPFR+js86nqg+M3i",
      "include_colab_link": true
    },
    "kernelspec": {
      "name": "python3",
      "display_name": "Python 3"
    },
    "language_info": {
      "name": "python"
    }
  },
  "cells": [
    {
      "cell_type": "markdown",
      "metadata": {
        "id": "view-in-github",
        "colab_type": "text"
      },
      "source": [
        "<a href=\"https://colab.research.google.com/github/TeneikaAskew/taap/blob/main/Automating_Everyday_Tasks.ipynb\" target=\"_parent\"><img src=\"https://colab.research.google.com/assets/colab-badge.svg\" alt=\"Open In Colab\"/></a>"
      ]
    },
    {
      "cell_type": "markdown",
      "source": [
        "# Workshop 3: Automating Everyday Tasks\n",
        "\n",
        "## Objective\n",
        "By the end of this workshop, you will:\n",
        "1. Learn how to automate repetitive tasks using Python.\n",
        "2. Work with files, including reading and writing to CSV, Excel, and text files.\n",
        "3. Automate data processing tasks using Python.\n",
        "4. Complete a lab exercise to consolidate multiple Excel files into one.\n",
        "5. Work on a homework assignment to create a file management script.\n",
        "\n",
        "---\n",
        "\n",
        "\n",
        "\n"
      ],
      "metadata": {
        "id": "xXci8nH5Xkty"
      }
    },
    {
      "cell_type": "markdown",
      "source": [
        "## Part 1: Working with Files\n",
        "- Reading and writing to files in different formats (CSV, Excel, and text).\n",
        "- Performing operations like merging and cleaning files.\n",
        "\n",
        "---"
      ],
      "metadata": {
        "id": "sCeCcphnXkmF"
      }
    },
    {
      "cell_type": "code",
      "source": [
        "# Part 1: Working with Files (CSV)\n",
        "import pandas as pd\n",
        "\n",
        "# Writing to a CSV file\n",
        "data = {\n",
        "    \"Name\": [\"Alice\", \"Bob\", \"Charlie\"],\n",
        "    \"Age\": [25, 30, 35],\n",
        "    \"Department\": [\"HR\", \"Engineering\", \"Marketing\"]\n",
        "}\n",
        "df = pd.DataFrame(data)\n",
        "df.to_csv(\"example.csv\", index=False)\n",
        "print(\"CSV file created.\")\n",
        "\n",
        "# Reading from a CSV file\n",
        "df = pd.read_csv(\"example.csv\")\n",
        "print(df)\n"
      ],
      "metadata": {
        "colab": {
          "base_uri": "https://localhost:8080/"
        },
        "id": "6Nl5fnd3YQQI",
        "outputId": "ec5e1305-6842-4b01-e431-1b36e8e91c38"
      },
      "execution_count": null,
      "outputs": [
        {
          "output_type": "stream",
          "name": "stdout",
          "text": [
            "CSV file created.\n",
            "      Name  Age   Department\n",
            "0    Alice   25           HR\n",
            "1      Bob   30  Engineering\n",
            "2  Charlie   35    Marketing\n"
          ]
        }
      ]
    },
    {
      "cell_type": "code",
      "source": [
        "# Part 1: Working with Files (Excel)\n",
        "# Writing to an Excel file\n",
        "df.to_excel(\"example.xlsx\", index=False)\n",
        "print(\"Excel file created.\")\n",
        "\n",
        "# Reading from an Excel file\n",
        "df = pd.read_excel(\"example.xlsx\")\n",
        "print(df)\n"
      ],
      "metadata": {
        "colab": {
          "base_uri": "https://localhost:8080/"
        },
        "id": "4DQ3Cr94YXPb",
        "outputId": "6dd209d8-b3bf-4b5b-8e2a-115a91c20eef"
      },
      "execution_count": null,
      "outputs": [
        {
          "output_type": "stream",
          "name": "stdout",
          "text": [
            "Excel file created.\n",
            "      Name  Age   Department\n",
            "0    Alice   25           HR\n",
            "1      Bob   30  Engineering\n",
            "2  Charlie   35    Marketing\n"
          ]
        }
      ]
    },
    {
      "cell_type": "code",
      "source": [
        "# prompt: write to a new google sheet\n",
        "from google.colab import auth\n",
        "auth.authenticate_user()\n",
        "import gspread\n",
        "from google.auth import default\n",
        "creds, _ = default()\n",
        "gc = gspread.authorize(creds)\n",
        "\n",
        "# Create a new spreadsheet\n",
        "sh = gc.create('My New Spreadsheet')\n",
        "\n",
        "# Open the spreadsheet\n",
        "worksheet = sh.sheet1\n",
        "\n",
        "# Write data to the worksheet\n",
        "data = {\n",
        "    \"Name\": [\"Alice\", \"Bob\", \"Charlie\"],\n",
        "    \"Age\": [25, 30, 35],\n",
        "    \"Department\": [\"HR\", \"Engineering\", \"Marketing\"]\n",
        "}\n",
        "df = pd.DataFrame(data)\n",
        "worksheet.update([df.columns.values.tolist()] + df.values.tolist())\n",
        "\n",
        "print(f\"Data written to Google Sheet: {sh.url}\")"
      ],
      "metadata": {
        "colab": {
          "base_uri": "https://localhost:8080/"
        },
        "id": "guwUNjXcYa3u",
        "outputId": "d1d2d7e5-831f-41ed-a64d-87c89eb41d36"
      },
      "execution_count": null,
      "outputs": [
        {
          "output_type": "stream",
          "name": "stdout",
          "text": [
            "Data written to Google Sheet: https://docs.google.com/spreadsheets/d/1aI2FsTGIdcX3msPkN-7Tz5p-WCBUEgtavCCAohH1af4\n"
          ]
        }
      ]
    },
    {
      "cell_type": "markdown",
      "source": [
        "\n",
        "## Part 2: Automating Tasks\n",
        "- Automating repetitive tasks such as cleaning datasets and creating reports.\n",
        "- Running and scheduling Python scripts.\n",
        "\n",
        "---"
      ],
      "metadata": {
        "id": "bJmPHhHFXkh6"
      }
    },
    {
      "cell_type": "code",
      "source": [
        "# Part 2: Automating a Task - Example\n",
        "# Automating the cleaning of a dataset\n",
        "df = pd.DataFrame({\n",
        "    \"Name\": [\"Alice \", \" Bob\", \"Charlie\"],\n",
        "    \"Age\": [25, None, 35],\n",
        "    \"Salary\": [50000, 60000, None]\n",
        "})\n",
        "\n",
        "# Cleaning the data\n",
        "df[\"Name\"] = df[\"Name\"].str.strip()\n",
        "df[\"Age\"] = df[\"Age\"].fillna(df[\"Age\"].mean())\n",
        "df[\"Salary\"] = df[\"Salary\"].fillna(0)\n",
        "print(\"Cleaned DataFrame:\")\n",
        "print(df)\n"
      ],
      "metadata": {
        "colab": {
          "base_uri": "https://localhost:8080/"
        },
        "id": "_XwaHYbSY1Sm",
        "outputId": "b26e1a83-6409-41bb-d8f6-52bf279b5c64"
      },
      "execution_count": null,
      "outputs": [
        {
          "output_type": "stream",
          "name": "stdout",
          "text": [
            "Cleaned DataFrame:\n",
            "      Name   Age   Salary\n",
            "0    Alice  25.0  50000.0\n",
            "1      Bob  30.0  60000.0\n",
            "2  Charlie  35.0      0.0\n"
          ]
        }
      ]
    },
    {
      "cell_type": "markdown",
      "source": [
        "## Lab: Consolidating Excel Files\n",
        "You will create a Python script that combines multiple Excel files into one consolidated file.\n",
        "\n",
        "---\n",
        "\n",
        "\n",
        "## Instructions\n",
        "1. Create a Python script to consolidate multiple Excel files into one.\n",
        "2. Assume each file has the same structure.\n",
        "3. Save the consolidated file as `consolidated.xlsx`.\n",
        "\n",
        "## Files for Testing\n",
        "Use the following code to generate sample Excel files:\n"
      ],
      "metadata": {
        "id": "DOYPmV0UXkb_"
      }
    },
    {
      "cell_type": "code",
      "source": [
        "# Generating sample Excel files\n",
        "for i in range(1, 4):\n",
        "    df = pd.DataFrame({\n",
        "        \"Product\": [\"A\", \"B\", \"C\"],\n",
        "        \"Sales\": [100 * i, 200 * i, 300 * i]\n",
        "    })\n",
        "    df.to_excel(f\"file_{i}.xlsx\", index=False)\n",
        "print(\"Sample Excel files created.\")\n"
      ],
      "metadata": {
        "colab": {
          "base_uri": "https://localhost:8080/"
        },
        "id": "zfZvb3laZSIW",
        "outputId": "67e37dbe-0f89-4eb1-8407-312cc1105f64"
      },
      "execution_count": null,
      "outputs": [
        {
          "output_type": "stream",
          "name": "stdout",
          "text": [
            "Sample Excel files created.\n"
          ]
        }
      ]
    },
    {
      "cell_type": "code",
      "source": [
        "# Lab Solution: Consolidating Excel Files\n",
        "import glob\n",
        "\n",
        "# Get all Excel files in the current directory\n",
        "excel_files = glob.glob(\"file_*.xlsx\")\n",
        "\n",
        "# Read and concatenate all Excel files\n",
        "dfs = [pd.read_excel(file) for file in excel_files]\n",
        "consolidated_df = pd.concat(dfs)\n",
        "\n",
        "# Save the consolidated DataFrame to a new Excel file\n",
        "consolidated_df.to_excel(\"consolidated.xlsx\", index=False)\n",
        "print(\"Consolidated file saved as 'consolidated.xlsx'.\")\n"
      ],
      "metadata": {
        "colab": {
          "base_uri": "https://localhost:8080/"
        },
        "id": "UemUWYmgZThT",
        "outputId": "ce0c1adf-69fa-4882-9313-35d4cfc81471"
      },
      "execution_count": null,
      "outputs": [
        {
          "output_type": "stream",
          "name": "stdout",
          "text": [
            "Consolidated file saved as 'consolidated.xlsx'.\n"
          ]
        }
      ]
    },
    {
      "cell_type": "markdown",
      "source": [
        "## Homework\n",
        "Write a script to:\n",
        "1. Search for all text files in a directory.\n",
        "2. Count the number of words in each file.\n",
        "3. Create a summary file with the filename and word count for each file.\n",
        "---\n"
      ],
      "metadata": {
        "id": "BQP0mNmiXkUf"
      }
    },
    {
      "cell_type": "code",
      "execution_count": null,
      "metadata": {
        "id": "x0AuJ9rfXV5o",
        "colab": {
          "base_uri": "https://localhost:8080/"
        },
        "outputId": "72114d0a-f14e-43eb-dc1b-e39752d5ca37"
      },
      "outputs": [
        {
          "output_type": "stream",
          "name": "stdout",
          "text": [
            "Sample text files created.\n"
          ]
        }
      ],
      "source": [
        "# Sample code to generate text files for testing\n",
        "for i in range(1, 4):\n",
        "    with open(f\"file_{i}.txt\", \"w\") as f:\n",
        "        f.write(f\"This is sample text for file {i}. \" * i)\n",
        "print(\"Sample text files created.\")\n"
      ]
    },
    {
      "cell_type": "code",
      "source": [
        "# Feedback Function: Check Consolidated Excel File\n",
        "def check_consolidated_excel():\n",
        "    expected_df = pd.DataFrame({\n",
        "        \"Product\": [\"A\", \"B\", \"C\", \"A\", \"B\", \"C\", \"A\", \"B\", \"C\"],\n",
        "        \"Sales\": [100, 200, 300, 200, 400, 600, 300, 600, 900]\n",
        "    })\n",
        "    try:\n",
        "        student_df = pd.read_excel(\"consolidated.xlsx\")\n",
        "        if student_df.equals(expected_df):\n",
        "            print(\"✅ Consolidated Excel File: Passed\")\n",
        "        else:\n",
        "            print(\"❌ Consolidated Excel File: Failed\")\n",
        "            print(\"Expected:\")\n",
        "            print(expected_df)\n",
        "            print(\"Got:\")\n",
        "            print(student_df)\n",
        "    except Exception as e:\n",
        "        print(f\"Error: {e}\")\n",
        "\n",
        "# Feedback Function: Check Homework\n",
        "def check_text_summary():\n",
        "    try:\n",
        "        summary_df = pd.read_csv(\"summary.csv\")\n",
        "        expected_summary = pd.DataFrame({\n",
        "            \"Filename\": [\"file_1.txt\", \"file_2.txt\", \"file_3.txt\"],\n",
        "            \"Word_Count\": [5, 10, 15]\n",
        "        })\n",
        "        if summary_df.equals(expected_summary):\n",
        "            print(\"✅ Text Summary: Passed\")\n",
        "        else:\n",
        "            print(\"❌ Text Summary: Failed\")\n",
        "            print(\"Expected:\")\n",
        "            print(expected_summary)\n",
        "            print(\"Got:\")\n",
        "            print(summary_df)\n",
        "    except Exception as e:\n",
        "        print(f\"Error: {e}\")\n",
        "\n",
        "# Example Usage\n",
        "check_consolidated_excel()\n",
        "check_text_summary()"
      ],
      "metadata": {
        "colab": {
          "base_uri": "https://localhost:8080/"
        },
        "id": "a-o-2XD_ZfF8",
        "outputId": "6dae2b0e-215d-4267-b936-626d97833325"
      },
      "execution_count": null,
      "outputs": [
        {
          "output_type": "stream",
          "name": "stdout",
          "text": [
            "❌ Consolidated Excel File: Failed\n",
            "Expected:\n",
            "  Product  Sales\n",
            "0       A    100\n",
            "1       B    200\n",
            "2       C    300\n",
            "3       A    200\n",
            "4       B    400\n",
            "5       C    600\n",
            "6       A    300\n",
            "7       B    600\n",
            "8       C    900\n",
            "Got:\n",
            "  Product  Sales\n",
            "0       A    200\n",
            "1       B    400\n",
            "2       C    600\n",
            "3       A    100\n",
            "4       B    200\n",
            "5       C    300\n",
            "6       A    300\n",
            "7       B    600\n",
            "8       C    900\n",
            "Error: [Errno 2] No such file or directory: 'summary.csv'\n"
          ]
        }
      ]
    },
    {
      "cell_type": "code",
      "source": [],
      "metadata": {
        "id": "8CV6B9-CZixC"
      },
      "execution_count": null,
      "outputs": []
    }
  ]
}